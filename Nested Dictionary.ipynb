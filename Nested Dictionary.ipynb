{
 "cells": [
  {
   "cell_type": "code",
   "execution_count": 5,
   "id": "7147ea74-86ef-4f73-83e2-66b0a35526fc",
   "metadata": {},
   "outputs": [
    {
     "name": "stdout",
     "output_type": "stream",
     "text": [
      "{'emp1': {'name': 'Danish', 'age': 30, 'department': 'IT'}, 'emp2': {'name': 'Ali', 'age': 25, 'department': 'Engineering'}, 'emp3': {'name': 'Musa', 'age': 35, 'department': 'Marketing'}, 'emp4': {'name': 'Zain', 'age': 28, 'department': 'IT'}, 'emp5': {'name': 'Ahmed', 'age': 27, 'department': 'Cybersecurity'}, 'emp6': {'name': 'Hammad', 'age': 30, 'department': 'AI'}}\n"
     ]
    }
   ],
   "source": [
    "employee_data = {\n",
    "    \"emp1\": {\"name\": \"Danish\",\"age\": 30,\"department\": \"IT\"},\n",
    "    \"emp2\": {\"name\": \"Ali\",\"age\": 25,\"department\": \"Engineering\"},\n",
    "    \"emp3\": {\"name\": \"Musa\",\"age\": 35,\"department\": \"Marketing\"},\n",
    "    \"emp4\": {\"name\": \"Zain\",\"age\": 28,\"department\": \"IT\"},\n",
    "    \"emp5\": {\"name\": \"Ahmed\",\"age\": 27,\"department\": \"Cybersecurity\"},\n",
    "    \"emp6\": {\"name\": \"Hammad\",\"age\": 30,\"department\": \"AI\"},\n",
    "}\n",
    "print(employee_data)"
   ]
  },
  {
   "cell_type": "code",
   "execution_count": 6,
   "id": "0911356d-03cd-4eff-beaa-994c48b46aaa",
   "metadata": {},
   "outputs": [
    {
     "name": "stdout",
     "output_type": "stream",
     "text": [
      "dict_keys(['emp1', 'emp2', 'emp3', 'emp4', 'emp5', 'emp6'])\n"
     ]
    }
   ],
   "source": [
    "print(employee_data.keys())"
   ]
  },
  {
   "cell_type": "code",
   "execution_count": 7,
   "id": "72d9fa1c-b788-41d7-a1f6-51a696f1e116",
   "metadata": {},
   "outputs": [
    {
     "name": "stdout",
     "output_type": "stream",
     "text": [
      "dict_values([{'name': 'Danish', 'age': 30, 'department': 'IT'}, {'name': 'Ali', 'age': 25, 'department': 'Engineering'}, {'name': 'Musa', 'age': 35, 'department': 'Marketing'}, {'name': 'Zain', 'age': 28, 'department': 'IT'}, {'name': 'Ahmed', 'age': 27, 'department': 'Cybersecurity'}, {'name': 'Hammad', 'age': 30, 'department': 'AI'}])\n"
     ]
    }
   ],
   "source": [
    "print(employee_data.values())"
   ]
  },
  {
   "cell_type": "raw",
   "id": "098856da-4efd-47d1-93f6-111edd769efb",
   "metadata": {},
   "source": []
  },
  {
   "cell_type": "code",
   "execution_count": null,
   "id": "cd5e8521-b573-4a84-a616-f5c154b86e2d",
   "metadata": {},
   "outputs": [],
   "source": []
  }
 ],
 "metadata": {
  "kernelspec": {
   "display_name": "Python 3 (ipykernel)",
   "language": "python",
   "name": "python3"
  },
  "language_info": {
   "codemirror_mode": {
    "name": "ipython",
    "version": 3
   },
   "file_extension": ".py",
   "mimetype": "text/x-python",
   "name": "python",
   "nbconvert_exporter": "python",
   "pygments_lexer": "ipython3",
   "version": "3.13.5"
  }
 },
 "nbformat": 4,
 "nbformat_minor": 5
}
