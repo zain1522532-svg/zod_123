{
 "cells": [
  {
   "cell_type": "code",
   "execution_count": 3,
   "id": "cc793146-a072-4d77-aeb0-83bec07dc117",
   "metadata": {},
   "outputs": [
    {
     "name": "stdout",
     "output_type": "stream",
     "text": [
      "['apple', 'anas', 'ali', 'zain', 'zubair', '8', '12', '4', '9', '90', '2.3', '4.9', '3.7', '1.0', '7.2', 'banana', 'orange', 'lslamabad', 'lahore', 'lal']\n",
      "['apple', 'anas', 'ali', 'zain', 'zubair', '8', '12', '4', '9', '90']\n",
      "['2.3', '4.9', '3.7', '1.0', '7.2', 'banana', 'orange', 'lslamabad', 'lahore', 'lal']\n"
     ]
    }
   ],
   "source": [
    "students=[\"apple\",\"anas\",\"ali\",\"zain\",\"zubair\",\"8\",\"12\",\"4\",\"9\",\"90\",\"2.3\",\"4.9\",\"3.7\",\"1.0\",\"7.2\",\"banana\",\"orange\",\"lslamabad\",\"lahore\",\"lal\"]\n",
    "print(students)\n",
    "print(students[0:10])\n",
    "print(students[10:20])"
   ]
  },
  {
   "cell_type": "code",
   "execution_count": null,
   "id": "c33ca094-92a3-4c5f-a82a-594d22bde229",
   "metadata": {},
   "outputs": [],
   "source": []
  }
 ],
 "metadata": {
  "kernelspec": {
   "display_name": "Python 3 (ipykernel)",
   "language": "python",
   "name": "python3"
  },
  "language_info": {
   "codemirror_mode": {
    "name": "ipython",
    "version": 3
   },
   "file_extension": ".py",
   "mimetype": "text/x-python",
   "name": "python",
   "nbconvert_exporter": "python",
   "pygments_lexer": "ipython3",
   "version": "3.13.5"
  }
 },
 "nbformat": 4,
 "nbformat_minor": 5
}
