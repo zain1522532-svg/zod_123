{
 "cells": [
  {
   "cell_type": "code",
   "execution_count": 2,
   "id": "849a2051-a277-4ca4-b36b-691d5ff20c44",
   "metadata": {},
   "outputs": [
    {
     "name": "stdin",
     "output_type": "stream",
     "text": [
      "Enter employee name:  AHMED\n",
      "Enter salary:  46000\n"
     ]
    },
    {
     "name": "stdout",
     "output_type": "stream",
     "text": [
      "Name: AHMED\n",
      "Salary: 46000\n",
      "Bonus: 4500\n",
      "Allowance: 6000\n",
      "Total Salary: 56500\n"
     ]
    }
   ],
   "source": [
    "# Simple Salary System using Nested if-else\n",
    "\n",
    "name = input(\"Enter employee name: \")\n",
    "salary = int(input(\"Enter salary: \"))\n",
    "\n",
    "if salary >= 40000:\n",
    "    bonus =4500\n",
    "    if salary >= 100000:\n",
    "        allowance = 9000\n",
    "    else:\n",
    "        allowance = 6000\n",
    "else:\n",
    "    bonus = 2000\n",
    "    if salary >= 30000:\n",
    "        allowance = 4000\n",
    "    else:\n",
    "        allowance = 2000\n",
    "\n",
    "total = salary + bonus + allowance\n",
    "\n",
    "print(\"Name:\", name)\n",
    "print(\"Salary:\", salary)\n",
    "print(\"Bonus:\", bonus)\n",
    "print(\"Allowance:\", allowance)\n",
    "print(\"Total Salary:\", total)\n"
   ]
  },
  {
   "cell_type": "code",
   "execution_count": 4,
   "id": "38ffacb7-f090-49e0-a6e7-3bdf6ae99302",
   "metadata": {},
   "outputs": [
    {
     "name": "stdin",
     "output_type": "stream",
     "text": [
      "Enter username:  z@in\n",
      "Enter password:  13729\n"
     ]
    },
    {
     "name": "stdout",
     "output_type": "stream",
     "text": [
      "Incorrect password!\n"
     ]
    }
   ],
   "source": [
    "# Simple User Login System using Nested if-else\n",
    "\n",
    "username = input(\"Enter username: \")\n",
    "password = input(\"Enter password: \")\n",
    "\n",
    "if username == \"z@in\":\n",
    "    if password == \"22532\":\n",
    "        print(\"Login Successful!\")\n",
    "    else:\n",
    "        print(\"Incorrect password!\")\n",
    "else:\n",
    "    print(\"Username not found!\")\n"
   ]
  },
  {
   "cell_type": "code",
   "execution_count": null,
   "id": "4e2fde9b-c70c-4d5f-8653-b293ed136992",
   "metadata": {},
   "outputs": [],
   "source": []
  }
 ],
 "metadata": {
  "kernelspec": {
   "display_name": "Python 3 (ipykernel)",
   "language": "python",
   "name": "python3"
  },
  "language_info": {
   "codemirror_mode": {
    "name": "ipython",
    "version": 3
   },
   "file_extension": ".py",
   "mimetype": "text/x-python",
   "name": "python",
   "nbconvert_exporter": "python",
   "pygments_lexer": "ipython3",
   "version": "3.13.5"
  }
 },
 "nbformat": 4,
 "nbformat_minor": 5
}
